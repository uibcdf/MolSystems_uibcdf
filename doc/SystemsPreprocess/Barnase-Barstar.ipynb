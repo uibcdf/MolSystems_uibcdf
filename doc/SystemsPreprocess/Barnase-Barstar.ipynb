{
 "cells": [
  {
   "cell_type": "markdown",
   "metadata": {},
   "source": [
    "# Barnase-Barstar complex"
   ]
  },
  {
   "cell_type": "markdown",
   "metadata": {},
   "source": [
    "The system was prepared for pynterpred: https://github.com/uibcdf/Pynterpred/tree/master/testsystems/Barnase-Barstar\n",
    "\n"
   ]
  },
  {
   "cell_type": "markdown",
   "metadata": {},
   "source": [
    "- The PDBid 1BRS was downloaded.\n",
    "- Three dimers are present in the crystal cell.\n",
    "- Following the system preparation described in \"Complete protein–protein association kinetics in atomic detail revealed by molecular dynamics simulations and Markov modelling\". Nuria Plattner, Stefan Doerr, Gianni De Fabritiis & Frank Noé. Nature Chemistry volume 9, pages 1005–1011 (2017) doi:10.1038/nchem.2785 https://www.nature.com/articles/nchem.2785: the monomer Barstar A coming from the pdb 1BRS and the monomer Barnase F fitted by Barstar B from the same pdb are used to study the complex."
   ]
  },
  {
   "cell_type": "code",
   "execution_count": null,
   "metadata": {},
   "outputs": [],
   "source": []
  }
 ],
 "metadata": {
  "anaconda-cloud": {},
  "kernelspec": {
   "display_name": "Python [conda env:pynterpred]",
   "language": "python",
   "name": "conda-env-pynterpred-py"
  },
  "language_info": {
   "codemirror_mode": {
    "name": "ipython",
    "version": 3
   },
   "file_extension": ".py",
   "mimetype": "text/x-python",
   "name": "python",
   "nbconvert_exporter": "python",
   "pygments_lexer": "ipython3",
   "version": "3.6.5"
  }
 },
 "nbformat": 4,
 "nbformat_minor": 2
}
